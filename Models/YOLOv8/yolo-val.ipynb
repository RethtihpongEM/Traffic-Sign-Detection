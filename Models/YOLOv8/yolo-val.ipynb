{
 "cells": [
  {
   "cell_type": "code",
   "execution_count": 5,
   "metadata": {},
   "outputs": [],
   "source": [
    "import torch\n",
    "from ultralytics import YOLO"
   ]
  },
  {
   "cell_type": "code",
   "execution_count": 6,
   "metadata": {},
   "outputs": [
    {
     "name": "stdout",
     "output_type": "stream",
     "text": [
      "Using device: cuda\n"
     ]
    }
   ],
   "source": [
    "# Check for available devices\n",
    "if torch.cuda.is_available():\n",
    "    device = torch.device(\"cuda\")  # Use CUDA if available (GPU acceleration)\n",
    "elif torch.backends.mps.is_available():\n",
    "    device = torch.device(\"mps\")   # Use MPS if available (macOS with Metal)\n",
    "else:\n",
    "    device = torch.device(\"cpu\")   # Default to CPU if neither CUDA nor MPS are available\n",
    "\n",
    "print(f\"Using device: {device}\")\n"
   ]
  },
  {
   "cell_type": "code",
   "execution_count": 7,
   "metadata": {},
   "outputs": [
    {
     "name": "stdout",
     "output_type": "stream",
     "text": [
      "Model summary (fused): 168 layers, 3,014,033 parameters, 0 gradients, 8.1 GFLOPs\n"
     ]
    },
    {
     "name": "stderr",
     "output_type": "stream",
     "text": [
      "\u001b[34m\u001b[1mval: \u001b[0mScanning D:\\Traffic-Sign-Detection\\Dataset\\GTSRB\\YOLOv8\\val\\labels.cache... 7842 images, 0 backgrounds, 0 corrupt: 100%|██████████| 7842/7842 [00:00<?, ?it/s]\n",
      "                 Class     Images  Instances      Box(P          R      mAP50  mAP50-95): 100%|██████████| 491/491 [00:35<00:00, 13.91it/s]\n"
     ]
    },
    {
     "name": "stdout",
     "output_type": "stream",
     "text": [
      "                   all       7842       7842      0.993      0.993      0.994      0.946\n",
      "  Speed limit (20km/h)         42         42      0.993          1      0.995      0.954\n",
      "  Speed limit (30km/h)        444        444          1      0.999      0.995       0.95\n",
      "  Speed limit (50km/h)        450        450          1      0.995      0.995      0.939\n",
      "  Speed limit (60km/h)        282        282          1      0.997      0.995      0.938\n",
      "  Speed limit (70km/h)        396        396      0.996          1      0.995      0.944\n",
      "  Speed limit (80km/h)        372        372      0.998      0.997      0.995      0.931\n",
      "End of speed limit (80km/h)         84         84      0.996          1      0.995      0.924\n",
      " Speed limit (100km/h)        288        288      0.999      0.997      0.995      0.948\n",
      " Speed limit (120km/h)        282        282          1      0.998      0.995      0.936\n",
      "            No passing        294        294          1      0.994      0.995      0.951\n",
      "No passing veh over 3.5 tons        402        402      0.999          1      0.995      0.947\n",
      "Right-of-way at intersection        264        264      0.999          1      0.995      0.962\n",
      "         Priority road        420        420      0.999          1      0.995       0.96\n",
      "                 Yield        432        432          1          1      0.995      0.966\n",
      "                  Stop        156        156      0.999          1      0.995      0.969\n",
      "           No vehicles        126        126      0.998          1      0.995      0.936\n",
      "Veh > 3.5 tons prohibited         84         84      0.996          1      0.995      0.961\n",
      "              No entry        222        222      0.999          1      0.995      0.921\n",
      "       General caution        240        240      0.999          1      0.995      0.968\n",
      "  Dangerous curve left         42         42      0.947          1      0.993      0.946\n",
      " Dangerous curve right         72         72          1      0.974      0.993      0.934\n",
      "          Double curve         66         66      0.995          1      0.995      0.959\n",
      "            Bumpy road         78         78      0.997          1      0.995      0.957\n",
      "         Slippery road        102        102      0.997          1      0.995      0.966\n",
      "Road narrows on the right         54         54      0.994          1      0.995      0.956\n",
      "             Road work        300        300      0.999          1      0.995       0.96\n",
      "       Traffic signals        120        120          1          1      0.995      0.944\n",
      "           Pedestrians         48         48      0.996          1      0.995      0.974\n",
      "     Children crossing        108        108      0.999          1      0.995      0.964\n",
      "     Bicycles crossing         54         54      0.995          1      0.995      0.944\n",
      "    Beware of ice/snow         90         90          1      0.993      0.995      0.961\n",
      " Wild animals crossing        156        156      0.998          1      0.995      0.964\n",
      "End speed + passing limits         48         48      0.975          1      0.995       0.92\n",
      "      Turn right ahead        138        138      0.981      0.986      0.994      0.927\n",
      "       Turn left ahead         84         84      0.979      0.964      0.991      0.932\n",
      "            Ahead only        240        240      0.998          1      0.995      0.943\n",
      "  Go straight or right         78         78      0.999      0.974      0.994      0.931\n",
      "   Go straight or left         42         42      0.928          1      0.983      0.936\n",
      "            Keep right        414        414      0.976      0.998      0.995      0.942\n",
      "             Keep left         60         60          1      0.839      0.989      0.933\n",
      "  Roundabout mandatory         72         72      0.996          1      0.995      0.948\n",
      "     End of no passing         48         48          1      0.985      0.995      0.925\n",
      "End no passing veh > 3.5 tons         48         48      0.995          1      0.995      0.914\n",
      "Speed: 0.1ms preprocess, 2.4ms inference, 0.0ms loss, 0.4ms postprocess per image\n",
      "Results saved to \u001b[1mruns\\detect\\val\u001b[0m\n"
     ]
    },
    {
     "data": {
      "text/plain": [
       "array([    0.95423,     0.94981,     0.93854,     0.93776,     0.94419,     0.93099,     0.92363,     0.94838,     0.93606,     0.95063,     0.94692,     0.96191,     0.96009,     0.96578,     0.96886,     0.93605,     0.96123,     0.92084,     0.96774,     0.94604,     0.93362,     0.95867,     0.95662,     0.96573,\n",
       "           0.95638,     0.96023,     0.94448,      0.9743,     0.96436,     0.94403,     0.96104,     0.96428,     0.91987,     0.92706,     0.93225,     0.94268,     0.93078,     0.93643,      0.9423,      0.9333,     0.94751,     0.92481,     0.91444])"
      ]
     },
     "execution_count": 7,
     "metadata": {},
     "output_type": "execute_result"
    }
   ],
   "source": [
    "# Load a model\n",
    "model = YOLO(\"./saved_model.pt\")\n",
    "model = model.to(device)\n",
    "\n",
    "# Validate the model\n",
    "metrics = model.val()  # no arguments needed, dataset and settings remembered\n",
    "\n",
    "metrics.box.map  # map50-95\n",
    "metrics.box.map50  # map50\n",
    "metrics.box.map75  # map75\n",
    "metrics.box.maps  # a list contains map50-95 of each category"
   ]
  }
 ],
 "metadata": {
  "kernelspec": {
   "display_name": "myenv",
   "language": "python",
   "name": "python3"
  },
  "language_info": {
   "codemirror_mode": {
    "name": "ipython",
    "version": 3
   },
   "file_extension": ".py",
   "mimetype": "text/x-python",
   "name": "python",
   "nbconvert_exporter": "python",
   "pygments_lexer": "ipython3",
   "version": "3.11.11"
  }
 },
 "nbformat": 4,
 "nbformat_minor": 2
}
