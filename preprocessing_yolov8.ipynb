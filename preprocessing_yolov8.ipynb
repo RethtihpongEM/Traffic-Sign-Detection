{
 "cells": [
  {
   "cell_type": "markdown",
   "metadata": {},
   "source": [
    "# Exploratory Data Analysis"
   ]
  },
  {
   "cell_type": "markdown",
   "metadata": {},
   "source": [
    "## Data Exploration"
   ]
  },
  {
   "cell_type": "markdown",
   "metadata": {},
   "source": [
    "### Import Necessary"
   ]
  },
  {
   "cell_type": "code",
   "execution_count": 1,
   "metadata": {},
   "outputs": [],
   "source": [
    "import os\n",
    "import zipfile\n",
    "import shutil\n",
    "import random\n",
    "import pandas as pd\n",
    "import matplotlib.pyplot as plt\n",
    "import cv2\n"
   ]
  },
  {
   "cell_type": "markdown",
   "metadata": {},
   "source": [
    "### Download dataset"
   ]
  },
  {
   "cell_type": "code",
   "execution_count": null,
   "metadata": {},
   "outputs": [],
   "source": [
    "import os\n",
    "import requests\n",
    "import zipfile\n",
    "import shutil\n",
    "\n",
    "# Kaggle dataset URL\n",
    "dataset_url = \"https://www.kaggle.com/api/v1/datasets/download/meowmeowmeowmeowmeow/gtsrb-german-traffic-sign\"\n",
    "\n",
    "# Target folder\n",
    "dataset_folder = \"../Dataset\"\n",
    "os.makedirs(dataset_folder, exist_ok=True)\n",
    "\n",
    "# Filepath for the downloaded zip file\n",
    "zip_filepath = os.path.join(dataset_folder, \"gtsrb-german-traffic-sign.zip\")\n",
    "\n",
    "# Check if the dataset already exists\n",
    "target_folder = os.path.join(dataset_folder, \"GTSRB\")\n",
    "if os.path.exists(target_folder):\n",
    "    print(f\"The dataset is already available in '{target_folder}'. Skipping download and extraction.\")\n",
    "else:\n",
    "    # Download the dataset if the zip file doesn't already exist\n",
    "    if not os.path.exists(zip_filepath):\n",
    "        print(f\"Downloading dataset from {dataset_url}...\")\n",
    "        with requests.get(dataset_url, stream=True) as response:\n",
    "            response.raise_for_status()\n",
    "            with open(zip_filepath, \"wb\") as file:\n",
    "                for chunk in response.iter_content(chunk_size=8192):\n",
    "                    file.write(chunk)\n",
    "        print(f\"Dataset downloaded and saved to {zip_filepath}\")\n",
    "    else:\n",
    "        print(f\"The dataset zip file already exists at '{zip_filepath}'. Skipping download.\")\n",
    "\n",
    "    print(\"Unzipping the dataset...\")\n",
    "    # Extract the downloaded zip file directly into the target folder\n",
    "    with zipfile.ZipFile(zip_filepath, 'r') as zip_ref:\n",
    "        zip_ref.extractall(target_folder)\n",
    "\n",
    "    print(f\"Dataset extracted directly into the '{target_folder}' folder.\")\n",
    "\n",
    "print(f\"Dataset is ready in the '{target_folder}' folder.\")\n"
   ]
  },
  {
   "cell_type": "markdown",
   "metadata": {},
   "source": [
    "### Import Dataset"
   ]
  },
  {
   "cell_type": "code",
   "execution_count": 3,
   "metadata": {},
   "outputs": [],
   "source": [
    "train_path = '../Dataset/GTSRB/Train'\n",
    "test_path = '../Dataset/GTSRB/Test'\n",
    "\n",
    "resized_image = './resized_image'\n",
    "\n",
    "os.makedirs(resized_image, exist_ok=True)\n",
    "\n",
    "image_size = (416, 416,3)\n"
   ]
  },
  {
   "cell_type": "markdown",
   "metadata": {},
   "source": [
    "### Total Classes for this dataset"
   ]
  },
  {
   "cell_type": "code",
   "execution_count": null,
   "metadata": {},
   "outputs": [],
   "source": [
    "# Count class\n",
    "num_of_classes = len(os.listdir(train_path))\n",
    "num_of_classes"
   ]
  },
  {
   "cell_type": "markdown",
   "metadata": {},
   "source": [
    "### Total images in dataset for train and test"
   ]
  },
  {
   "cell_type": "markdown",
   "metadata": {},
   "source": [
    "### Define the count image function"
   ]
  },
  {
   "cell_type": "code",
   "execution_count": 5,
   "metadata": {},
   "outputs": [],
   "source": [
    "\n",
    "def count_images(folder_path):\n",
    "    \"\"\"\n",
    "    Count the total number of .png images in the dataset folder.\n",
    "    Assumes the dataset is organized into subfolders for each class.\n",
    "    \"\"\"\n",
    "    total_images = 0\n",
    "    for root, dirs, files in os.walk(folder_path):\n",
    "        png_files = [f for f in files if f.endswith(\".png\")]\n",
    "        total_images += len(png_files)\n",
    "    return total_images\n"
   ]
  },
  {
   "cell_type": "code",
   "execution_count": null,
   "metadata": {},
   "outputs": [],
   "source": [
    "# Count images\n",
    "total_training_images = count_images(train_path)\n",
    "total_testing_images = count_images(test_path)\n",
    "\n",
    "print(f\"Total Training Images: {total_training_images}\")\n",
    "print(f\"Total Testing Images: {total_testing_images}\")\n",
    "print(f\"Total Images in Dataset: {total_training_images + total_testing_images}\")\n"
   ]
  },
  {
   "cell_type": "markdown",
   "metadata": {},
   "source": [
    "### Creating Dictionary"
   ]
  },
  {
   "cell_type": "code",
   "execution_count": 7,
   "metadata": {},
   "outputs": [],
   "source": [
    "# Define label for each class\n",
    "classes = { 0:'Speed limit (20km/h)',\n",
    "            1:'Speed limit (30km/h)', \n",
    "            2:'Speed limit (50km/h)', \n",
    "            3:'Speed limit (60km/h)', \n",
    "            4:'Speed limit (70km/h)', \n",
    "            5:'Speed limit (80km/h)', \n",
    "            6:'End of speed limit (80km/h)', \n",
    "            7:'Speed limit (100km/h)', \n",
    "            8:'Speed limit (120km/h)', \n",
    "            9:'No passing', \n",
    "            10:'No passing veh over 3.5 tons', \n",
    "            11:'Right-of-way at intersection', \n",
    "            12:'Priority road', \n",
    "            13:'Yield', \n",
    "            14:'Stop', \n",
    "            15:'No vehicles', \n",
    "            16:'Veh > 3.5 tons prohibited', \n",
    "            17:'No entry', \n",
    "            18:'General caution', \n",
    "            19:'Dangerous curve left', \n",
    "            20:'Dangerous curve right', \n",
    "            21:'Double curve', \n",
    "            22:'Bumpy road', \n",
    "            23:'Slippery road', \n",
    "            24:'Road narrows on the right', \n",
    "            25:'Road work', \n",
    "            26:'Traffic signals', \n",
    "            27:'Pedestrians', \n",
    "            28:'Children crossing', \n",
    "            29:'Bicycles crossing', \n",
    "            30:'Beware of ice/snow',\n",
    "            31:'Wild animals crossing', \n",
    "            32:'End speed + passing limits', \n",
    "            33:'Turn right ahead', \n",
    "            34:'Turn left ahead', \n",
    "            35:'Ahead only', \n",
    "            36:'Go straight or right', \n",
    "            37:'Go straight or left', \n",
    "            38:'Keep right', \n",
    "            39:'Keep left', \n",
    "            40:'Roundabout mandatory', \n",
    "            41:'End of no passing', \n",
    "            42:'End no passing veh > 3.5 tons' }"
   ]
  },
  {
   "cell_type": "markdown",
   "metadata": {},
   "source": [
    "### Visualize number of images in each class"
   ]
  },
  {
   "cell_type": "code",
   "execution_count": null,
   "metadata": {},
   "outputs": [],
   "source": [
    "folders = os.listdir(train_path)\n",
    "\n",
    "train_number = []\n",
    "class_num = []\n",
    "\n",
    "for folder in folders:\n",
    "    train_files = os.listdir(train_path + '/' + folder)\n",
    "    train_number.append(len(train_files))\n",
    "    class_num.append(classes[int(folder)])\n",
    "    \n",
    "# Sorting the dataset on the basis of number of images in each class\n",
    "zipped_lists = zip(train_number, class_num)\n",
    "sorted_pairs = sorted(zipped_lists)\n",
    "tuples = zip(*sorted_pairs)\n",
    "train_number, class_num = [ list(tuple) for tuple in  tuples]\n",
    "\n",
    "# Plotting the number of images in each class\n",
    "plt.figure(figsize=(21,10))  \n",
    "plt.bar(class_num, train_number)\n",
    "plt.xticks(class_num, rotation='vertical')\n",
    "plt.show()"
   ]
  },
  {
   "cell_type": "markdown",
   "metadata": {},
   "source": [
    "### Display one image from each class"
   ]
  },
  {
   "cell_type": "code",
   "execution_count": null,
   "metadata": {},
   "outputs": [],
   "source": [
    "from cv2 import imread\n",
    "\n",
    "test = pd.read_csv('../Dataset/GTSRB/Test.csv')\n",
    "imgs = test[\"Path\"].values\n",
    "\n",
    "plt.figure(figsize=(25,25))\n",
    "\n",
    "for i in range(1,44):\n",
    "    plt.subplot(7,7,i)\n",
    "    random_img_path = '../Dataset/GTSRB/' + random.choice(imgs)\n",
    "    rand_img = imread(random_img_path)\n",
    "    plt.imshow(rand_img)\n",
    "    # plt.grid(b=None)\n",
    "    plt.xlabel(rand_img.shape[1], fontsize = 10)#width of image\n",
    "    plt.ylabel(rand_img.shape[0], fontsize = 10)#height of image"
   ]
  },
  {
   "cell_type": "markdown",
   "metadata": {},
   "source": [
    "### Class distribution"
   ]
  },
  {
   "cell_type": "code",
   "execution_count": null,
   "metadata": {},
   "outputs": [],
   "source": [
    "# Path to your Train folder\n",
    "classes = sorted(os.listdir(train_path))\n",
    "\n",
    "# Count images in each class\n",
    "class_counts = []\n",
    "for cls in classes:\n",
    "    class_folder = os.path.join(train_path, cls)\n",
    "    if os.path.isdir(class_folder):  # Ensure it's a folder, not a file\n",
    "        class_counts.append(len(os.listdir(class_folder)))\n",
    "\n",
    "# Plot the class distribution\n",
    "plt.figure(figsize=(12, 6))\n",
    "plt.bar(range(len(classes)), class_counts, color=\"skyblue\")\n",
    "plt.xticks(range(len(classes)), classes, rotation=90)\n",
    "plt.xlabel(\"Class\")\n",
    "plt.ylabel(\"Number of Images\")\n",
    "plt.title(\"Class Distribution in GTSRB\")\n",
    "plt.show()\n"
   ]
  },
  {
   "cell_type": "markdown",
   "metadata": {},
   "source": [
    "## Data Preprocessing for Traffic Sign Detection"
   ]
  },
  {
   "cell_type": "markdown",
   "metadata": {},
   "source": [
    "### 1. Data Cleansing"
   ]
  },
  {
   "cell_type": "markdown",
   "metadata": {},
   "source": [
    "#### a. Standard Image Size"
   ]
  },
  {
   "cell_type": "code",
   "execution_count": null,
   "metadata": {},
   "outputs": [],
   "source": [
    "# Specify input and output directories\n",
    "image_size = (32, 32)  # New image size (width, height)\n",
    "\n",
    "# Ensure the output folder exists\n",
    "os.makedirs(resized_image, exist_ok=True)\n",
    "\n",
    "# Iterate through each class folder\n",
    "for class_folder in os.listdir(train_path):\n",
    "    class_path = os.path.join(train_path, class_folder)\n",
    "    \n",
    "    # Skip non-folder files\n",
    "    if not os.path.isdir(class_path):\n",
    "        continue\n",
    "    \n",
    "    # Create the corresponding class folder in the output directory\n",
    "    output_class_path = os.path.join(resized_image, class_folder)\n",
    "    os.makedirs(output_class_path, exist_ok=True)\n",
    "    \n",
    "    # Iterate through each image in the class folder\n",
    "    for filename in os.listdir(class_path):\n",
    "        filepath = os.path.join(class_path, filename)\n",
    "        \n",
    "        # Read and resize the image\n",
    "        img = cv2.imread(filepath)\n",
    "        if img is not None:  # Ensure the image is loaded correctly\n",
    "            resized_img = cv2.resize(img, image_size)\n",
    "            \n",
    "            # Save the resized image to the output folder\n",
    "            cv2.imwrite(os.path.join(output_class_path, filename), resized_img)\n",
    "\n",
    "print(\"Images resized and saved successfully!\")"
   ]
  },
  {
   "cell_type": "markdown",
   "metadata": {},
   "source": [
    "### b. Normalize data"
   ]
  },
  {
   "cell_type": "code",
   "execution_count": 12,
   "metadata": {},
   "outputs": [],
   "source": [
    "import numpy as np\n",
    "\n",
    "output_train_folder = './output_train_folder'\n",
    "\n",
    "# Function to normalize and save images\n",
    "def normalize_images(input_folder, output_folder):\n",
    "    os.makedirs(output_folder, exist_ok=True)  # Create output folder if it doesn't exist\n",
    "\n",
    "    # Iterate through class folders\n",
    "    for class_folder in sorted(os.listdir(input_folder)):\n",
    "        class_path = os.path.join(input_folder, class_folder)\n",
    "        if os.path.isdir(class_path):\n",
    "            output_class_path = os.path.join(output_folder, class_folder)\n",
    "            os.makedirs(output_class_path, exist_ok=True)  # Create class folder in output\n",
    "\n",
    "            # Iterate through images in the class folder\n",
    "            for filename in os.listdir(class_path):\n",
    "                filepath = os.path.join(class_path, filename)\n",
    "                img = cv2.imread(filepath)\n",
    "\n",
    "                if img is not None:  # Ensure the image is loaded correctly\n",
    "                    # Normalize the image to 0–1 range\n",
    "                    normalized_img = img / 255.0\n",
    "                    \n",
    "                    # Save the normalized image (converted back to uint8 for saving)\n",
    "                    output_path = os.path.join(output_class_path, filename)\n",
    "                    cv2.imwrite(output_path, (normalized_img * 255).astype(np.uint8))\n",
    "\n"
   ]
  },
  {
   "cell_type": "code",
   "execution_count": null,
   "metadata": {},
   "outputs": [],
   "source": [
    "# Normalize resized training image\n",
    "print(\"Normalizing resized training images...\")\n",
    "normalize_images(resized_image, output_train_folder)\n",
    "\n",
    "print(\"Normalization complete!\")\n"
   ]
  },
  {
   "cell_type": "code",
   "execution_count": null,
   "metadata": {},
   "outputs": [],
   "source": []
  }
 ],
 "metadata": {
  "kernelspec": {
   "display_name": "myenv",
   "language": "python",
   "name": "python3"
  },
  "language_info": {
   "codemirror_mode": {
    "name": "ipython",
    "version": 3
   },
   "file_extension": ".py",
   "mimetype": "text/x-python",
   "name": "python",
   "nbconvert_exporter": "python",
   "pygments_lexer": "ipython3",
   "version": "3.10.15"
  }
 },
 "nbformat": 4,
 "nbformat_minor": 2
}
